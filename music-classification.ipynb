{
 "cells": [
  {
   "cell_type": "code",
   "execution_count": 1,
   "id": "3635d150",
   "metadata": {},
   "outputs": [],
   "source": [
    "import numpy as np\n",
    "import matplotlib.pyplot as plt\n",
    "import pandas as pd"
   ]
  },
  {
   "cell_type": "code",
   "execution_count": 51,
   "id": "2f3c9862",
   "metadata": {},
   "outputs": [],
   "source": [
    "from sklearn.model_selection import train_test_split\n",
    "from sklearn.metrics import confusion_matrix, accuracy_score\n",
    "from sklearn.metrics import precision_score, recall_score, f1_score\n",
    "from sklearn.metrics import accuracy_score\n",
    "from sklearn.metrics import confusion_matrix\n",
    "from mlxtend.plotting import plot_confusion_matrix\n",
    "from mlxtend.plotting import plot_decision_regions"
   ]
  },
  {
   "cell_type": "code",
   "execution_count": 2,
   "id": "d985bf53",
   "metadata": {},
   "outputs": [],
   "source": [
    "df = pd.read_csv('tcc_ceds_music.csv')"
   ]
  },
  {
   "cell_type": "code",
   "execution_count": 3,
   "id": "64a0e098",
   "metadata": {},
   "outputs": [
    {
     "data": {
      "text/html": [
       "<div>\n",
       "<style scoped>\n",
       "    .dataframe tbody tr th:only-of-type {\n",
       "        vertical-align: middle;\n",
       "    }\n",
       "\n",
       "    .dataframe tbody tr th {\n",
       "        vertical-align: top;\n",
       "    }\n",
       "\n",
       "    .dataframe thead th {\n",
       "        text-align: right;\n",
       "    }\n",
       "</style>\n",
       "<table border=\"1\" class=\"dataframe\">\n",
       "  <thead>\n",
       "    <tr style=\"text-align: right;\">\n",
       "      <th></th>\n",
       "      <th>Unnamed: 0</th>\n",
       "      <th>artist_name</th>\n",
       "      <th>track_name</th>\n",
       "      <th>release_date</th>\n",
       "      <th>genre</th>\n",
       "      <th>lyrics</th>\n",
       "      <th>len</th>\n",
       "      <th>dating</th>\n",
       "      <th>violence</th>\n",
       "      <th>world/life</th>\n",
       "      <th>...</th>\n",
       "      <th>sadness</th>\n",
       "      <th>feelings</th>\n",
       "      <th>danceability</th>\n",
       "      <th>loudness</th>\n",
       "      <th>acousticness</th>\n",
       "      <th>instrumentalness</th>\n",
       "      <th>valence</th>\n",
       "      <th>energy</th>\n",
       "      <th>topic</th>\n",
       "      <th>age</th>\n",
       "    </tr>\n",
       "  </thead>\n",
       "  <tbody>\n",
       "    <tr>\n",
       "      <th>0</th>\n",
       "      <td>0</td>\n",
       "      <td>mukesh</td>\n",
       "      <td>mohabbat bhi jhoothi</td>\n",
       "      <td>1950</td>\n",
       "      <td>pop</td>\n",
       "      <td>hold time feel break feel untrue convince spea...</td>\n",
       "      <td>95</td>\n",
       "      <td>0.000598</td>\n",
       "      <td>0.063746</td>\n",
       "      <td>0.000598</td>\n",
       "      <td>...</td>\n",
       "      <td>0.380299</td>\n",
       "      <td>0.117175</td>\n",
       "      <td>0.357739</td>\n",
       "      <td>0.454119</td>\n",
       "      <td>0.997992</td>\n",
       "      <td>0.901822</td>\n",
       "      <td>0.339448</td>\n",
       "      <td>0.137110</td>\n",
       "      <td>sadness</td>\n",
       "      <td>1.000000</td>\n",
       "    </tr>\n",
       "    <tr>\n",
       "      <th>1</th>\n",
       "      <td>4</td>\n",
       "      <td>frankie laine</td>\n",
       "      <td>i believe</td>\n",
       "      <td>1950</td>\n",
       "      <td>pop</td>\n",
       "      <td>believe drop rain fall grow believe darkest ni...</td>\n",
       "      <td>51</td>\n",
       "      <td>0.035537</td>\n",
       "      <td>0.096777</td>\n",
       "      <td>0.443435</td>\n",
       "      <td>...</td>\n",
       "      <td>0.001284</td>\n",
       "      <td>0.001284</td>\n",
       "      <td>0.331745</td>\n",
       "      <td>0.647540</td>\n",
       "      <td>0.954819</td>\n",
       "      <td>0.000002</td>\n",
       "      <td>0.325021</td>\n",
       "      <td>0.263240</td>\n",
       "      <td>world/life</td>\n",
       "      <td>1.000000</td>\n",
       "    </tr>\n",
       "    <tr>\n",
       "      <th>2</th>\n",
       "      <td>6</td>\n",
       "      <td>johnnie ray</td>\n",
       "      <td>cry</td>\n",
       "      <td>1950</td>\n",
       "      <td>pop</td>\n",
       "      <td>sweetheart send letter goodbye secret feel bet...</td>\n",
       "      <td>24</td>\n",
       "      <td>0.002770</td>\n",
       "      <td>0.002770</td>\n",
       "      <td>0.002770</td>\n",
       "      <td>...</td>\n",
       "      <td>0.002770</td>\n",
       "      <td>0.225422</td>\n",
       "      <td>0.456298</td>\n",
       "      <td>0.585288</td>\n",
       "      <td>0.840361</td>\n",
       "      <td>0.000000</td>\n",
       "      <td>0.351814</td>\n",
       "      <td>0.139112</td>\n",
       "      <td>music</td>\n",
       "      <td>1.000000</td>\n",
       "    </tr>\n",
       "    <tr>\n",
       "      <th>3</th>\n",
       "      <td>10</td>\n",
       "      <td>pérez prado</td>\n",
       "      <td>patricia</td>\n",
       "      <td>1950</td>\n",
       "      <td>pop</td>\n",
       "      <td>kiss lips want stroll charm mambo chacha merin...</td>\n",
       "      <td>54</td>\n",
       "      <td>0.048249</td>\n",
       "      <td>0.001548</td>\n",
       "      <td>0.001548</td>\n",
       "      <td>...</td>\n",
       "      <td>0.225889</td>\n",
       "      <td>0.001548</td>\n",
       "      <td>0.686992</td>\n",
       "      <td>0.744404</td>\n",
       "      <td>0.083935</td>\n",
       "      <td>0.199393</td>\n",
       "      <td>0.775350</td>\n",
       "      <td>0.743736</td>\n",
       "      <td>romantic</td>\n",
       "      <td>1.000000</td>\n",
       "    </tr>\n",
       "    <tr>\n",
       "      <th>4</th>\n",
       "      <td>12</td>\n",
       "      <td>giorgos papadopoulos</td>\n",
       "      <td>apopse eida oneiro</td>\n",
       "      <td>1950</td>\n",
       "      <td>pop</td>\n",
       "      <td>till darling till matter know till dream live ...</td>\n",
       "      <td>48</td>\n",
       "      <td>0.001350</td>\n",
       "      <td>0.001350</td>\n",
       "      <td>0.417772</td>\n",
       "      <td>...</td>\n",
       "      <td>0.068800</td>\n",
       "      <td>0.001350</td>\n",
       "      <td>0.291671</td>\n",
       "      <td>0.646489</td>\n",
       "      <td>0.975904</td>\n",
       "      <td>0.000246</td>\n",
       "      <td>0.597073</td>\n",
       "      <td>0.394375</td>\n",
       "      <td>romantic</td>\n",
       "      <td>1.000000</td>\n",
       "    </tr>\n",
       "    <tr>\n",
       "      <th>...</th>\n",
       "      <td>...</td>\n",
       "      <td>...</td>\n",
       "      <td>...</td>\n",
       "      <td>...</td>\n",
       "      <td>...</td>\n",
       "      <td>...</td>\n",
       "      <td>...</td>\n",
       "      <td>...</td>\n",
       "      <td>...</td>\n",
       "      <td>...</td>\n",
       "      <td>...</td>\n",
       "      <td>...</td>\n",
       "      <td>...</td>\n",
       "      <td>...</td>\n",
       "      <td>...</td>\n",
       "      <td>...</td>\n",
       "      <td>...</td>\n",
       "      <td>...</td>\n",
       "      <td>...</td>\n",
       "      <td>...</td>\n",
       "      <td>...</td>\n",
       "    </tr>\n",
       "    <tr>\n",
       "      <th>28367</th>\n",
       "      <td>82447</td>\n",
       "      <td>mack 10</td>\n",
       "      <td>10 million ways</td>\n",
       "      <td>2019</td>\n",
       "      <td>hip hop</td>\n",
       "      <td>cause fuck leave scar tick tock clock come kno...</td>\n",
       "      <td>78</td>\n",
       "      <td>0.001350</td>\n",
       "      <td>0.001350</td>\n",
       "      <td>0.001350</td>\n",
       "      <td>...</td>\n",
       "      <td>0.065664</td>\n",
       "      <td>0.001350</td>\n",
       "      <td>0.889527</td>\n",
       "      <td>0.759711</td>\n",
       "      <td>0.062549</td>\n",
       "      <td>0.000000</td>\n",
       "      <td>0.751649</td>\n",
       "      <td>0.695686</td>\n",
       "      <td>obscene</td>\n",
       "      <td>0.014286</td>\n",
       "    </tr>\n",
       "    <tr>\n",
       "      <th>28368</th>\n",
       "      <td>82448</td>\n",
       "      <td>m.o.p.</td>\n",
       "      <td>ante up (robbin hoodz theory)</td>\n",
       "      <td>2019</td>\n",
       "      <td>hip hop</td>\n",
       "      <td>minks things chain ring braclets yap fame come...</td>\n",
       "      <td>67</td>\n",
       "      <td>0.001284</td>\n",
       "      <td>0.001284</td>\n",
       "      <td>0.035338</td>\n",
       "      <td>...</td>\n",
       "      <td>0.001284</td>\n",
       "      <td>0.001284</td>\n",
       "      <td>0.662082</td>\n",
       "      <td>0.789580</td>\n",
       "      <td>0.004607</td>\n",
       "      <td>0.000002</td>\n",
       "      <td>0.922712</td>\n",
       "      <td>0.797791</td>\n",
       "      <td>obscene</td>\n",
       "      <td>0.014286</td>\n",
       "    </tr>\n",
       "    <tr>\n",
       "      <th>28369</th>\n",
       "      <td>82449</td>\n",
       "      <td>nine</td>\n",
       "      <td>whutcha want?</td>\n",
       "      <td>2019</td>\n",
       "      <td>hip hop</td>\n",
       "      <td>get ban get ban stick crack relax plan attack ...</td>\n",
       "      <td>77</td>\n",
       "      <td>0.001504</td>\n",
       "      <td>0.154302</td>\n",
       "      <td>0.168988</td>\n",
       "      <td>...</td>\n",
       "      <td>0.001504</td>\n",
       "      <td>0.001504</td>\n",
       "      <td>0.663165</td>\n",
       "      <td>0.726970</td>\n",
       "      <td>0.104417</td>\n",
       "      <td>0.000001</td>\n",
       "      <td>0.838211</td>\n",
       "      <td>0.767761</td>\n",
       "      <td>obscene</td>\n",
       "      <td>0.014286</td>\n",
       "    </tr>\n",
       "    <tr>\n",
       "      <th>28370</th>\n",
       "      <td>82450</td>\n",
       "      <td>will smith</td>\n",
       "      <td>switch</td>\n",
       "      <td>2019</td>\n",
       "      <td>hip hop</td>\n",
       "      <td>check check yeah yeah hear thing call switch g...</td>\n",
       "      <td>67</td>\n",
       "      <td>0.001196</td>\n",
       "      <td>0.001196</td>\n",
       "      <td>0.001196</td>\n",
       "      <td>...</td>\n",
       "      <td>0.001196</td>\n",
       "      <td>0.001196</td>\n",
       "      <td>0.883028</td>\n",
       "      <td>0.786888</td>\n",
       "      <td>0.007027</td>\n",
       "      <td>0.000503</td>\n",
       "      <td>0.508450</td>\n",
       "      <td>0.885882</td>\n",
       "      <td>obscene</td>\n",
       "      <td>0.014286</td>\n",
       "    </tr>\n",
       "    <tr>\n",
       "      <th>28371</th>\n",
       "      <td>82451</td>\n",
       "      <td>jeezy</td>\n",
       "      <td>r.i.p.</td>\n",
       "      <td>2019</td>\n",
       "      <td>hip hop</td>\n",
       "      <td>remix killer alive remix thriller trap bitch s...</td>\n",
       "      <td>83</td>\n",
       "      <td>0.001012</td>\n",
       "      <td>0.075202</td>\n",
       "      <td>0.001012</td>\n",
       "      <td>...</td>\n",
       "      <td>0.001012</td>\n",
       "      <td>0.033995</td>\n",
       "      <td>0.828875</td>\n",
       "      <td>0.674794</td>\n",
       "      <td>0.015862</td>\n",
       "      <td>0.000000</td>\n",
       "      <td>0.475474</td>\n",
       "      <td>0.492477</td>\n",
       "      <td>obscene</td>\n",
       "      <td>0.014286</td>\n",
       "    </tr>\n",
       "  </tbody>\n",
       "</table>\n",
       "<p>28372 rows × 31 columns</p>\n",
       "</div>"
      ],
      "text/plain": [
       "       Unnamed: 0           artist_name                     track_name  \\\n",
       "0               0                mukesh           mohabbat bhi jhoothi   \n",
       "1               4         frankie laine                      i believe   \n",
       "2               6           johnnie ray                            cry   \n",
       "3              10           pérez prado                       patricia   \n",
       "4              12  giorgos papadopoulos             apopse eida oneiro   \n",
       "...           ...                   ...                            ...   \n",
       "28367       82447               mack 10                10 million ways   \n",
       "28368       82448                m.o.p.  ante up (robbin hoodz theory)   \n",
       "28369       82449                  nine                  whutcha want?   \n",
       "28370       82450            will smith                         switch   \n",
       "28371       82451                 jeezy                         r.i.p.   \n",
       "\n",
       "       release_date    genre  \\\n",
       "0              1950      pop   \n",
       "1              1950      pop   \n",
       "2              1950      pop   \n",
       "3              1950      pop   \n",
       "4              1950      pop   \n",
       "...             ...      ...   \n",
       "28367          2019  hip hop   \n",
       "28368          2019  hip hop   \n",
       "28369          2019  hip hop   \n",
       "28370          2019  hip hop   \n",
       "28371          2019  hip hop   \n",
       "\n",
       "                                                  lyrics  len    dating  \\\n",
       "0      hold time feel break feel untrue convince spea...   95  0.000598   \n",
       "1      believe drop rain fall grow believe darkest ni...   51  0.035537   \n",
       "2      sweetheart send letter goodbye secret feel bet...   24  0.002770   \n",
       "3      kiss lips want stroll charm mambo chacha merin...   54  0.048249   \n",
       "4      till darling till matter know till dream live ...   48  0.001350   \n",
       "...                                                  ...  ...       ...   \n",
       "28367  cause fuck leave scar tick tock clock come kno...   78  0.001350   \n",
       "28368  minks things chain ring braclets yap fame come...   67  0.001284   \n",
       "28369  get ban get ban stick crack relax plan attack ...   77  0.001504   \n",
       "28370  check check yeah yeah hear thing call switch g...   67  0.001196   \n",
       "28371  remix killer alive remix thriller trap bitch s...   83  0.001012   \n",
       "\n",
       "       violence  world/life  ...   sadness  feelings  danceability  loudness  \\\n",
       "0      0.063746    0.000598  ...  0.380299  0.117175      0.357739  0.454119   \n",
       "1      0.096777    0.443435  ...  0.001284  0.001284      0.331745  0.647540   \n",
       "2      0.002770    0.002770  ...  0.002770  0.225422      0.456298  0.585288   \n",
       "3      0.001548    0.001548  ...  0.225889  0.001548      0.686992  0.744404   \n",
       "4      0.001350    0.417772  ...  0.068800  0.001350      0.291671  0.646489   \n",
       "...         ...         ...  ...       ...       ...           ...       ...   \n",
       "28367  0.001350    0.001350  ...  0.065664  0.001350      0.889527  0.759711   \n",
       "28368  0.001284    0.035338  ...  0.001284  0.001284      0.662082  0.789580   \n",
       "28369  0.154302    0.168988  ...  0.001504  0.001504      0.663165  0.726970   \n",
       "28370  0.001196    0.001196  ...  0.001196  0.001196      0.883028  0.786888   \n",
       "28371  0.075202    0.001012  ...  0.001012  0.033995      0.828875  0.674794   \n",
       "\n",
       "       acousticness  instrumentalness   valence    energy       topic  \\\n",
       "0          0.997992          0.901822  0.339448  0.137110     sadness   \n",
       "1          0.954819          0.000002  0.325021  0.263240  world/life   \n",
       "2          0.840361          0.000000  0.351814  0.139112       music   \n",
       "3          0.083935          0.199393  0.775350  0.743736    romantic   \n",
       "4          0.975904          0.000246  0.597073  0.394375    romantic   \n",
       "...             ...               ...       ...       ...         ...   \n",
       "28367      0.062549          0.000000  0.751649  0.695686     obscene   \n",
       "28368      0.004607          0.000002  0.922712  0.797791     obscene   \n",
       "28369      0.104417          0.000001  0.838211  0.767761     obscene   \n",
       "28370      0.007027          0.000503  0.508450  0.885882     obscene   \n",
       "28371      0.015862          0.000000  0.475474  0.492477     obscene   \n",
       "\n",
       "            age  \n",
       "0      1.000000  \n",
       "1      1.000000  \n",
       "2      1.000000  \n",
       "3      1.000000  \n",
       "4      1.000000  \n",
       "...         ...  \n",
       "28367  0.014286  \n",
       "28368  0.014286  \n",
       "28369  0.014286  \n",
       "28370  0.014286  \n",
       "28371  0.014286  \n",
       "\n",
       "[28372 rows x 31 columns]"
      ]
     },
     "execution_count": 3,
     "metadata": {},
     "output_type": "execute_result"
    }
   ],
   "source": [
    "df"
   ]
  },
  {
   "cell_type": "code",
   "execution_count": 4,
   "id": "61ff140c",
   "metadata": {},
   "outputs": [],
   "source": [
    "index = df.columns"
   ]
  },
  {
   "cell_type": "code",
   "execution_count": 5,
   "id": "2b2f9e26",
   "metadata": {},
   "outputs": [
    {
     "data": {
      "text/plain": [
       "'Unnamed: 0, artist_name, track_name, release_date, genre, lyrics, len, dating, violence, world/life, night/time, shake the audience, family/gospel, romantic, communication, obscene, music, movement/places, light/visual perceptions, family/spiritual, like/girls, sadness, feelings, danceability, loudness, acousticness, instrumentalness, valence, energy, topic, age'"
      ]
     },
     "execution_count": 5,
     "metadata": {},
     "output_type": "execute_result"
    }
   ],
   "source": [
    "', '.join(index)"
   ]
  },
  {
   "cell_type": "code",
   "execution_count": 39,
   "id": "b7e68ca7",
   "metadata": {},
   "outputs": [],
   "source": [
    "attributes = ['dating',\n",
    " 'violence',\n",
    " 'world/life',\n",
    " 'night/time',\n",
    " 'shake the audience',\n",
    " 'family/gospel',\n",
    " 'romantic',\n",
    " 'communication',\n",
    " 'obscene',\n",
    " 'music',\n",
    " 'movement/places',\n",
    " 'light/visual perceptions',\n",
    " 'family/spiritual',\n",
    " 'like/girls',\n",
    " 'sadness',\n",
    " 'feelings',\n",
    " 'danceability',\n",
    " 'loudness',\n",
    " 'acousticness',\n",
    " 'instrumentalness',\n",
    " 'valence',\n",
    " 'energy']"
   ]
  },
  {
   "cell_type": "code",
   "execution_count": 40,
   "id": "7edec594",
   "metadata": {},
   "outputs": [
    {
     "data": {
      "text/plain": [
       "22"
      ]
     },
     "execution_count": 40,
     "metadata": {},
     "output_type": "execute_result"
    }
   ],
   "source": [
    "len(attributes)"
   ]
  },
  {
   "cell_type": "code",
   "execution_count": 41,
   "id": "c8cb16cb",
   "metadata": {},
   "outputs": [],
   "source": [
    "genres = df['genre'].unique()"
   ]
  },
  {
   "cell_type": "code",
   "execution_count": 42,
   "id": "e312094c",
   "metadata": {},
   "outputs": [
    {
     "data": {
      "text/plain": [
       "7"
      ]
     },
     "execution_count": 42,
     "metadata": {},
     "output_type": "execute_result"
    }
   ],
   "source": [
    "len(genres)"
   ]
  },
  {
   "cell_type": "code",
   "execution_count": 43,
   "id": "b1f25745",
   "metadata": {},
   "outputs": [
    {
     "data": {
      "text/plain": [
       "'pop, country, blues, jazz, reggae, rock, hip hop'"
      ]
     },
     "execution_count": 43,
     "metadata": {},
     "output_type": "execute_result"
    }
   ],
   "source": [
    "', '.join(genres)"
   ]
  },
  {
   "cell_type": "code",
   "execution_count": 44,
   "id": "13ca0f59",
   "metadata": {},
   "outputs": [
    {
     "data": {
      "text/plain": [
       "<Axes: >"
      ]
     },
     "execution_count": 44,
     "metadata": {},
     "output_type": "execute_result"
    },
    {
     "data": {
      "image/png": "[encoded data removed]",
      "text/plain": [
       "<Figure size 640x480 with 1 Axes>"
      ]
     },
     "metadata": {},
     "output_type": "display_data"
    }
   ],
   "source": [
    "df['genre'].hist(bins=7)"
   ]
  },
  {
   "cell_type": "code",
   "execution_count": 65,
   "id": "73ba70c0",
   "metadata": {},
   "outputs": [],
   "source": [
    "data = df[attributes].to_numpy()"
   ]
  },
  {
   "cell_type": "code",
   "execution_count": 66,
   "id": "9d62f241",
   "metadata": {},
   "outputs": [
    {
     "data": {
      "text/plain": [
       "array([[5.98086126e-04, 6.37461276e-02, 5.98086157e-04, ...,\n",
       "        9.01821862e-01, 3.39447650e-01, 1.37110188e-01],\n",
       "       [3.55371338e-02, 9.67767423e-02, 4.43435174e-01, ...,\n",
       "        1.52834008e-06, 3.25020610e-01, 2.63240253e-01],\n",
       "       [2.77008311e-03, 2.77008322e-03, 2.77008334e-03, ...,\n",
       "        0.00000000e+00, 3.51813685e-01, 1.39112253e-01],\n",
       "       ...,\n",
       "       [1.50375949e-03, 1.54302437e-01, 1.68987767e-01, ...,\n",
       "        1.10323887e-06, 8.38211047e-01, 7.67760515e-01],\n",
       "       [1.19617227e-03, 1.19617229e-03, 1.19617228e-03, ...,\n",
       "        5.03036437e-04, 5.08450124e-01, 8.85882322e-01],\n",
       "       [1.01214575e-03, 7.52024945e-02, 1.01214577e-03, ...,\n",
       "        0.00000000e+00, 4.75474031e-01, 4.92476642e-01]])"
      ]
     },
     "execution_count": 66,
     "metadata": {},
     "output_type": "execute_result"
    }
   ],
   "source": [
    "data"
   ]
  },
  {
   "cell_type": "code",
   "execution_count": 81,
   "id": "7a14c3b3",
   "metadata": {},
   "outputs": [
    {
     "data": {
      "text/plain": [
       "28372"
      ]
     },
     "execution_count": 81,
     "metadata": {},
     "output_type": "execute_result"
    }
   ],
   "source": [
    "n = len(df)\n",
    "n"
   ]
  },
  {
   "cell_type": "code",
   "execution_count": 75,
   "id": "e6a72f9c",
   "metadata": {},
   "outputs": [
    {
     "data": {
      "text/plain": [
       "array(['pop', 'country', 'blues', 'jazz', 'reggae', 'rock', 'hip hop'],\n",
       "      dtype=object)"
      ]
     },
     "execution_count": 75,
     "metadata": {},
     "output_type": "execute_result"
    }
   ],
   "source": [
    "genres = df['genre'].unique()\n",
    "genres"
   ]
  },
  {
   "cell_type": "code",
   "execution_count": 141,
   "id": "ac644c77",
   "metadata": {},
   "outputs": [],
   "source": [
    "labels = df['genre'].to_numpy()\n",
    "labels_array = np.zeros((n, len(genres)))\n",
    "for k, genre in enumerate(genres):\n",
    "    labels_array[:, k] = labels == genre"
   ]
  },
  {
   "cell_type": "code",
   "execution_count": 135,
   "id": "4c4c5492",
   "metadata": {},
   "outputs": [],
   "source": [
    "labels = df['genre'].to_numpy()\n",
    "labels_array = np.zeros(n)\n",
    "for k, genre in enumerate(genres):\n",
    "    labels_array = (labels == genre)*(k+1)"
   ]
  },
  {
   "cell_type": "code",
   "execution_count": 142,
   "id": "d8f1f5c0",
   "metadata": {},
   "outputs": [],
   "source": [
    "X = data\n",
    "y = labels_array"
   ]
  },
  {
   "cell_type": "code",
   "execution_count": 143,
   "id": "ab9ce410",
   "metadata": {},
   "outputs": [],
   "source": [
    "from sklearn.neighbors import KNeighborsClassifier\n",
    "import sklearn"
   ]
  },
  {
   "cell_type": "code",
   "execution_count": 144,
   "id": "d9988bf7",
   "metadata": {},
   "outputs": [
    {
     "data": {
      "text/plain": [
       "0.10565272943560823"
      ]
     },
     "execution_count": 144,
     "metadata": {},
     "output_type": "execute_result"
    }
   ],
   "source": [
    "# Split the dataset into training and testing sets\n",
    "X_train, X_test, y_train, y_test = train_test_split(X, y, test_size=0.2, random_state=42)\n",
    "\n",
    "knn=KNeighborsClassifier(n_neighbors=20)\n",
    "knn.fit(X_train, y_train)\n",
    "knn.score(X_train, y_train)"
   ]
  },
  {
   "cell_type": "code",
   "execution_count": 147,
   "id": "b9508895",
   "metadata": {},
   "outputs": [
    {
     "data": {
      "text/plain": [
       "(22697, 22)"
      ]
     },
     "execution_count": 147,
     "metadata": {},
     "output_type": "execute_result"
    }
   ],
   "source": [
    "X_train.shape"
   ]
  },
  {
   "cell_type": "code",
   "execution_count": 146,
   "id": "764ac720",
   "metadata": {},
   "outputs": [
    {
     "ename": "ValueError",
     "evalue": "Classification metrics can't handle a mix of multilabel-indicator and binary targets",
     "output_type": "error",
     "traceback": [
      "\u001b[0;31m---------------------------------------------------------------------------\u001b[0m",
      "\u001b[0;31mValueError\u001b[0m                                Traceback (most recent call last)",
      "Cell \u001b[0;32mIn[146], line 5\u001b[0m\n\u001b[1;32m      2\u001b[0m y_pred \u001b[38;5;241m=\u001b[39m model\u001b[38;5;241m.\u001b[39mpredict(X_test) \u001b[38;5;241m>\u001b[39m\u001b[38;5;241m=\u001b[39m \u001b[38;5;241m0.5\u001b[39m  \u001b[38;5;66;03m# Convert probabilities to binary outcomes\u001b[39;00m\n\u001b[1;32m      4\u001b[0m \u001b[38;5;66;03m# Evaluate the model\u001b[39;00m\n\u001b[0;32m----> 5\u001b[0m \u001b[38;5;28mprint\u001b[39m(\u001b[38;5;124m\"\u001b[39m\u001b[38;5;124mAccuracy:\u001b[39m\u001b[38;5;124m\"\u001b[39m, \u001b[43maccuracy_score\u001b[49m\u001b[43m(\u001b[49m\u001b[43my_test\u001b[49m\u001b[43m,\u001b[49m\u001b[43m \u001b[49m\u001b[43my_pred\u001b[49m\u001b[43m)\u001b[49m)\n\u001b[1;32m      7\u001b[0m \u001b[38;5;66;03m# Plot the confusion matrix\u001b[39;00m\n\u001b[1;32m      8\u001b[0m plt\u001b[38;5;241m.\u001b[39mfigure(figsize\u001b[38;5;241m=\u001b[39m(\u001b[38;5;241m6\u001b[39m, \u001b[38;5;241m6\u001b[39m))\n",
      "File \u001b[0;32m~/micromamba/envs/data/lib/python3.12/site-packages/sklearn/utils/_param_validation.py:214\u001b[0m, in \u001b[0;36mvalidate_params.<locals>.decorator.<locals>.wrapper\u001b[0;34m(*args, **kwargs)\u001b[0m\n\u001b[1;32m    208\u001b[0m \u001b[38;5;28;01mtry\u001b[39;00m:\n\u001b[1;32m    209\u001b[0m     \u001b[38;5;28;01mwith\u001b[39;00m config_context(\n\u001b[1;32m    210\u001b[0m         skip_parameter_validation\u001b[38;5;241m=\u001b[39m(\n\u001b[1;32m    211\u001b[0m             prefer_skip_nested_validation \u001b[38;5;129;01mor\u001b[39;00m global_skip_validation\n\u001b[1;32m    212\u001b[0m         )\n\u001b[1;32m    213\u001b[0m     ):\n\u001b[0;32m--> 214\u001b[0m         \u001b[38;5;28;01mreturn\u001b[39;00m \u001b[43mfunc\u001b[49m\u001b[43m(\u001b[49m\u001b[38;5;241;43m*\u001b[39;49m\u001b[43margs\u001b[49m\u001b[43m,\u001b[49m\u001b[43m \u001b[49m\u001b[38;5;241;43m*\u001b[39;49m\u001b[38;5;241;43m*\u001b[39;49m\u001b[43mkwargs\u001b[49m\u001b[43m)\u001b[49m\n\u001b[1;32m    215\u001b[0m \u001b[38;5;28;01mexcept\u001b[39;00m InvalidParameterError \u001b[38;5;28;01mas\u001b[39;00m e:\n\u001b[1;32m    216\u001b[0m     \u001b[38;5;66;03m# When the function is just a wrapper around an estimator, we allow\u001b[39;00m\n\u001b[1;32m    217\u001b[0m     \u001b[38;5;66;03m# the function to delegate validation to the estimator, but we replace\u001b[39;00m\n\u001b[1;32m    218\u001b[0m     \u001b[38;5;66;03m# the name of the estimator by the name of the function in the error\u001b[39;00m\n\u001b[1;32m    219\u001b[0m     \u001b[38;5;66;03m# message to avoid confusion.\u001b[39;00m\n\u001b[1;32m    220\u001b[0m     msg \u001b[38;5;241m=\u001b[39m re\u001b[38;5;241m.\u001b[39msub(\n\u001b[1;32m    221\u001b[0m         \u001b[38;5;124mr\u001b[39m\u001b[38;5;124m\"\u001b[39m\u001b[38;5;124mparameter of \u001b[39m\u001b[38;5;124m\\\u001b[39m\u001b[38;5;124mw+ must be\u001b[39m\u001b[38;5;124m\"\u001b[39m,\n\u001b[1;32m    222\u001b[0m         \u001b[38;5;124mf\u001b[39m\u001b[38;5;124m\"\u001b[39m\u001b[38;5;124mparameter of \u001b[39m\u001b[38;5;132;01m{\u001b[39;00mfunc\u001b[38;5;241m.\u001b[39m\u001b[38;5;18m__qualname__\u001b[39m\u001b[38;5;132;01m}\u001b[39;00m\u001b[38;5;124m must be\u001b[39m\u001b[38;5;124m\"\u001b[39m,\n\u001b[1;32m    223\u001b[0m         \u001b[38;5;28mstr\u001b[39m(e),\n\u001b[1;32m    224\u001b[0m     )\n",
      "File \u001b[0;32m~/micromamba/envs/data/lib/python3.12/site-packages/sklearn/metrics/_classification.py:220\u001b[0m, in \u001b[0;36maccuracy_score\u001b[0;34m(y_true, y_pred, normalize, sample_weight)\u001b[0m\n\u001b[1;32m    154\u001b[0m \u001b[38;5;250m\u001b[39m\u001b[38;5;124;03m\"\"\"Accuracy classification score.\u001b[39;00m\n\u001b[1;32m    155\u001b[0m \n\u001b[1;32m    156\u001b[0m \u001b[38;5;124;03mIn multilabel classification, this function computes subset accuracy:\u001b[39;00m\n\u001b[0;32m   (...)\u001b[0m\n\u001b[1;32m    216\u001b[0m \u001b[38;5;124;03m0.5\u001b[39;00m\n\u001b[1;32m    217\u001b[0m \u001b[38;5;124;03m\"\"\"\u001b[39;00m\n\u001b[1;32m    219\u001b[0m \u001b[38;5;66;03m# Compute accuracy for each possible representation\u001b[39;00m\n\u001b[0;32m--> 220\u001b[0m y_type, y_true, y_pred \u001b[38;5;241m=\u001b[39m \u001b[43m_check_targets\u001b[49m\u001b[43m(\u001b[49m\u001b[43my_true\u001b[49m\u001b[43m,\u001b[49m\u001b[43m \u001b[49m\u001b[43my_pred\u001b[49m\u001b[43m)\u001b[49m\n\u001b[1;32m    221\u001b[0m check_consistent_length(y_true, y_pred, sample_weight)\n\u001b[1;32m    222\u001b[0m \u001b[38;5;28;01mif\u001b[39;00m y_type\u001b[38;5;241m.\u001b[39mstartswith(\u001b[38;5;124m\"\u001b[39m\u001b[38;5;124mmultilabel\u001b[39m\u001b[38;5;124m\"\u001b[39m):\n",
      "File \u001b[0;32m~/micromamba/envs/data/lib/python3.12/site-packages/sklearn/metrics/_classification.py:93\u001b[0m, in \u001b[0;36m_check_targets\u001b[0;34m(y_true, y_pred)\u001b[0m\n\u001b[1;32m     90\u001b[0m     y_type \u001b[38;5;241m=\u001b[39m {\u001b[38;5;124m\"\u001b[39m\u001b[38;5;124mmulticlass\u001b[39m\u001b[38;5;124m\"\u001b[39m}\n\u001b[1;32m     92\u001b[0m \u001b[38;5;28;01mif\u001b[39;00m \u001b[38;5;28mlen\u001b[39m(y_type) \u001b[38;5;241m>\u001b[39m \u001b[38;5;241m1\u001b[39m:\n\u001b[0;32m---> 93\u001b[0m     \u001b[38;5;28;01mraise\u001b[39;00m \u001b[38;5;167;01mValueError\u001b[39;00m(\n\u001b[1;32m     94\u001b[0m         \u001b[38;5;124m\"\u001b[39m\u001b[38;5;124mClassification metrics can\u001b[39m\u001b[38;5;124m'\u001b[39m\u001b[38;5;124mt handle a mix of \u001b[39m\u001b[38;5;132;01m{0}\u001b[39;00m\u001b[38;5;124m and \u001b[39m\u001b[38;5;132;01m{1}\u001b[39;00m\u001b[38;5;124m targets\u001b[39m\u001b[38;5;124m\"\u001b[39m\u001b[38;5;241m.\u001b[39mformat(\n\u001b[1;32m     95\u001b[0m             type_true, type_pred\n\u001b[1;32m     96\u001b[0m         )\n\u001b[1;32m     97\u001b[0m     )\n\u001b[1;32m     99\u001b[0m \u001b[38;5;66;03m# We can't have more than one value on y_type => The set is no more needed\u001b[39;00m\n\u001b[1;32m    100\u001b[0m y_type \u001b[38;5;241m=\u001b[39m y_type\u001b[38;5;241m.\u001b[39mpop()\n",
      "\u001b[0;31mValueError\u001b[0m: Classification metrics can't handle a mix of multilabel-indicator and binary targets"
     ]
    }
   ],
   "source": [
    "# Predict on the test set\n",
    "y_pred = model.predict(X_test) >= 0.5  # Convert probabilities to binary outcomes\n",
    "\n",
    "# Evaluate the model\n",
    "print(\"Accuracy:\", accuracy_score(y_test, y_pred))\n",
    "\n",
    "# Plot the confusion matrix\n",
    "plt.figure(figsize=(6, 6))\n",
    "plot_confusion_matrix(confusion_matrix(y_test, y_pred))\n",
    "plt.show()"
   ]
  },
  {
   "cell_type": "code",
   "execution_count": 117,
   "id": "10158c88",
   "metadata": {},
   "outputs": [
    {
     "name": "stdout",
     "output_type": "stream",
     "text": [
      "Help on function confusion_matrix in module sklearn.metrics._classification:\n",
      "\n",
      "confusion_matrix(y_true, y_pred, *, labels=None, sample_weight=None, normalize=None)\n",
      "    Compute confusion matrix to evaluate the accuracy of a classification.\n",
      "\n",
      "    By definition a confusion matrix :math:`C` is such that :math:`C_{i, j}`\n",
      "    is equal to the number of observations known to be in group :math:`i` and\n",
      "    predicted to be in group :math:`j`.\n",
      "\n",
      "    Thus in binary classification, the count of true negatives is\n",
      "    :math:`C_{0,0}`, false negatives is :math:`C_{1,0}`, true positives is\n",
      "    :math:`C_{1,1}` and false positives is :math:`C_{0,1}`.\n",
      "\n",
      "    Read more in the :ref:`User Guide <confusion_matrix>`.\n",
      "\n",
      "    Parameters\n",
      "    ----------\n",
      "    y_true : array-like of shape (n_samples,)\n",
      "        Ground truth (correct) target values.\n",
      "\n",
      "    y_pred : array-like of shape (n_samples,)\n",
      "        Estimated targets as returned by a classifier.\n",
      "\n",
      "    labels : array-like of shape (n_classes), default=None\n",
      "        List of labels to index the matrix. This may be used to reorder\n",
      "        or select a subset of labels.\n",
      "        If ``None`` is given, those that appear at least once\n",
      "        in ``y_true`` or ``y_pred`` are used in sorted order.\n",
      "\n",
      "    sample_weight : array-like of shape (n_samples,), default=None\n",
      "        Sample weights.\n",
      "\n",
      "        .. versionadded:: 0.18\n",
      "\n",
      "    normalize : {'true', 'pred', 'all'}, default=None\n",
      "        Normalizes confusion matrix over the true (rows), predicted (columns)\n",
      "        conditions or all the population. If None, confusion matrix will not be\n",
      "        normalized.\n",
      "\n",
      "    Returns\n",
      "    -------\n",
      "    C : ndarray of shape (n_classes, n_classes)\n",
      "        Confusion matrix whose i-th row and j-th\n",
      "        column entry indicates the number of\n",
      "        samples with true label being i-th class\n",
      "        and predicted label being j-th class.\n",
      "\n",
      "    See Also\n",
      "    --------\n",
      "    ConfusionMatrixDisplay.from_estimator : Plot the confusion matrix\n",
      "        given an estimator, the data, and the label.\n",
      "    ConfusionMatrixDisplay.from_predictions : Plot the confusion matrix\n",
      "        given the true and predicted labels.\n",
      "    ConfusionMatrixDisplay : Confusion Matrix visualization.\n",
      "\n",
      "    References\n",
      "    ----------\n",
      "    .. [1] `Wikipedia entry for the Confusion matrix\n",
      "           <https://en.wikipedia.org/wiki/Confusion_matrix>`_\n",
      "           (Wikipedia and other references may use a different\n",
      "           convention for axes).\n",
      "\n",
      "    Examples\n",
      "    --------\n",
      "    >>> from sklearn.metrics import confusion_matrix\n",
      "    >>> y_true = [2, 0, 2, 2, 0, 1]\n",
      "    >>> y_pred = [0, 0, 2, 2, 0, 2]\n",
      "    >>> confusion_matrix(y_true, y_pred)\n",
      "    array([[2, 0, 0],\n",
      "           [0, 0, 1],\n",
      "           [1, 0, 2]])\n",
      "\n",
      "    >>> y_true = [\"cat\", \"ant\", \"cat\", \"cat\", \"ant\", \"bird\"]\n",
      "    >>> y_pred = [\"ant\", \"ant\", \"cat\", \"cat\", \"ant\", \"cat\"]\n",
      "    >>> confusion_matrix(y_true, y_pred, labels=[\"ant\", \"bird\", \"cat\"])\n",
      "    array([[2, 0, 0],\n",
      "           [0, 0, 1],\n",
      "           [1, 0, 2]])\n",
      "\n",
      "    In the binary case, we can extract true positives, etc. as follows:\n",
      "\n",
      "    >>> tn, fp, fn, tp = confusion_matrix([0, 1, 0, 1], [1, 1, 1, 0]).ravel()\n",
      "    >>> (tn, fp, fn, tp)\n",
      "    (0, 2, 1, 1)\n",
      "\n"
     ]
    }
   ],
   "source": [
    "help(confusion_matrix)"
   ]
  },
  {
   "cell_type": "code",
   "execution_count": 59,
   "id": "f6b74977",
   "metadata": {},
   "outputs": [],
   "source": [
    "import numpy as np\n",
    "import pandas as pd\n",
    "\n",
    "class LogisticRegression:\n",
    "    \n",
    "    def __init__(self, lr=0.1, max_iter=1000, tol=1e-4):\n",
    "        self.lr = lr\n",
    "        self.max_iter = max_iter\n",
    "        self.tol = tol\n",
    "        self.W = None\n",
    "        self.b = None\n",
    "\n",
    "        \n",
    "    def fit(self, X, y):\n",
    "        \"\"\"\n",
    "        Estimates parameters for the classifier\n",
    "        \n",
    "        Args:\n",
    "            X (array<m,n>): a matrix of floats with\n",
    "                m rows (#samples) and n columns (#features)\n",
    "            y (array<m>): a vector of floats containing \n",
    "                m binary 0.0/1.0 labels\n",
    "        \"\"\"\n",
    "        self.W = np.zeros(X.shape[1])\n",
    "        self.b = 0.0\n",
    "\n",
    "        prev_cost = 0.0\n",
    "        for i in range(self.max_iter):\n",
    "            h0 = sigmoid(np.dot(X, self.W) + self.b)\n",
    "            gradient = np.dot(X.T, (h0 - y)) / y.size\n",
    "            self.W -= self.lr * gradient\n",
    "            self.b -= self.lr * np.mean(h0 - y)\n",
    "            \n",
    "            cost = binary_cross_entropy(y, h0)\n",
    "            if abs(cost - prev_cost) < self.tol:\n",
    "                break\n",
    "            prev_cost = cost\n",
    "\n",
    "        print(f'Converged after {i+1} iterations')\n",
    "\n",
    "    \n",
    "    def predict(self, X):\n",
    "        \"\"\"\n",
    "        Generates predictions\n",
    "        \n",
    "        Note: should be called after .fit()\n",
    "        \n",
    "        Args:\n",
    "            X (array<m,n>): a matrix of floats with \n",
    "                m rows (#samples) and n columns (#features)\n",
    "            \n",
    "        Returns:\n",
    "            A length m array of floats in the range [0, 1]\n",
    "            with probability-like predictions\n",
    "        \"\"\"\n",
    "        return sigmoid(np.dot(X, self.W) + self.b)\n",
    "        \n",
    "\n",
    "        \n",
    "# --- Some utility functions \n",
    "\n",
    "def binary_accuracy(y_true, y_pred, threshold=0.5):\n",
    "    \"\"\"\n",
    "    Computes binary classification accuracy\n",
    "    \n",
    "    Args:\n",
    "        y_true (array<m>): m 0/1 floats with ground truth labels\n",
    "        y_pred (array<m>): m [0,1] floats with \"soft\" predictions\n",
    "        \n",
    "    Returns:\n",
    "        The average number of correct predictions\n",
    "    \"\"\"\n",
    "    assert y_true.shape == y_pred.shape\n",
    "    y_pred_thresholded = (y_pred >= threshold).astype(float)\n",
    "    correct_predictions = y_pred_thresholded == y_true \n",
    "    return correct_predictions.mean()\n",
    "    \n",
    "\n",
    "def binary_cross_entropy(y_true, y_pred, eps=1e-15):\n",
    "    \"\"\"\n",
    "    Computes binary cross entropy \n",
    "    \n",
    "    Args:\n",
    "        y_true (array<m>): m 0/1 floats with ground truth labels\n",
    "        y_pred (array<m>): m [0,1] floats with \"soft\" predictions\n",
    "        \n",
    "    Returns:\n",
    "        Binary cross entropy averaged over the input elements\n",
    "    \"\"\"\n",
    "    assert y_true.shape == y_pred.shape\n",
    "    y_pred = np.clip(y_pred, eps, 1 - eps)  # Avoid log(0)\n",
    "    return - np.mean(\n",
    "        y_true * np.log(y_pred) + \n",
    "        (1 - y_true) * (np.log(1 - y_pred))\n",
    "    )\n",
    "\n",
    "\n",
    "def sigmoid(x):\n",
    "    \"\"\"\n",
    "    Applies the logistic function element-wise\n",
    "    \n",
    "    Hint: highly related to cross-entropy loss \n",
    "    \n",
    "    Args:\n",
    "        x (float or array): input to the logistic function\n",
    "            the function is vectorized, so it is acceptible\n",
    "            to pass an array of any shape.\n",
    "    \n",
    "    Returns:\n",
    "        Element-wise sigmoid activations of the input \n",
    "    \"\"\"\n",
    "    return 1. / (1. + np.exp(-x))\n",
    "\n",
    "\n",
    "#Source: TDT4173 Machine Learning"
   ]
  }
 ],
 "metadata": {
  "kernelspec": {
   "display_name": "data",
   "language": "python",
   "name": "data"
  },
  "language_info": {
   "codemirror_mode": {
    "name": "ipython",
    "version": 3
   },
   "file_extension": ".py",
   "mimetype": "text/x-python",
   "name": "python",
   "nbconvert_exporter": "python",
   "pygments_lexer": "ipython3",
   "version": "3.12.0"
  }
 },
 "nbformat": 4,
 "nbformat_minor": 5
}
